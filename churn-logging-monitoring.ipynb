{
 "cells": [
  {
   "cell_type": "markdown",
   "id": "790c3a69-1ede-4af9-ac27-2c51c3759dd4",
   "metadata": {},
   "source": [
    "# Customer Churn Prediction\n",
    "## Integration of Logging & Monitoring\n",
    "### 1. Adding Basic Logging for Model Performance Tracking\n",
    "To ensure the model performs well in production and identify performance degradation, we can implement logging.\n",
    "\n",
    "#### a. Logging Model Predictions & Performance Metrics\n",
    "We can log model predictions and key performance metrics (e.g., accuracy, precision, recall, F1-score, log loss, and MCC) at regular intervals using Python’s logging module or a logging framework like MLflow, TensorBoard, or Weights & Biases."
   ]
  },
  {
   "cell_type": "code",
   "execution_count": 5,
   "id": "7065b053-acb0-40d2-8bb3-0d0a25f3d4df",
   "metadata": {},
   "outputs": [],
   "source": [
    "import pandas as pd\n",
    "import logging\n",
    "import datetime\n",
    "from sklearn.metrics import accuracy_score, precision_score, recall_score, f1_score, roc_auc_score\n",
    "\n",
    "# Configure logging\n",
    "logging.basicConfig(filename='model_performance.log', level=logging.INFO, format='%(asctime)s - %(levelname)s - %(message)s')\n",
    "\n",
    "# Load y_true and y_pred\n",
    "y_true = pd.read_csv('y_true.csv')\n",
    "y_pred = pd.read_csv('y_pred_gb.csv')['predictions']\n",
    "\n",
    "def log_model_performance(y_true, y_pred, model_name):\n",
    "    accuracy = accuracy_score(y_true, y_pred)\n",
    "    precision = precision_score(y_true, y_pred)\n",
    "    recall = recall_score(y_true, y_pred)\n",
    "    f1 = f1_score(y_true, y_pred)\n",
    "    auc = roc_auc_score(y_true, y_pred)\n",
    "\n",
    "    logging.info(f\"Model: {model_name} | Accuracy: {accuracy:.4f} | Precision: {precision:.4f} | Recall: {recall:.4f} | F1-score: {f1:.4f} | AUC: {auc:.4f}\")\n",
    "\n",
    "# Example usage after model prediction\n",
    "log_model_performance(y_true, y_pred, \"Gradient Boosting\")\n"
   ]
  },
  {
   "cell_type": "code",
   "execution_count": null,
   "id": "8b61535d-15b9-4c86-9a96-1734d0b8a1e7",
   "metadata": {},
   "outputs": [],
   "source": []
  }
 ],
 "metadata": {
  "kernelspec": {
   "display_name": "Python 3 (ipykernel)",
   "language": "python",
   "name": "python3"
  },
  "language_info": {
   "codemirror_mode": {
    "name": "ipython",
    "version": 3
   },
   "file_extension": ".py",
   "mimetype": "text/x-python",
   "name": "python",
   "nbconvert_exporter": "python",
   "pygments_lexer": "ipython3",
   "version": "3.13.2"
  }
 },
 "nbformat": 4,
 "nbformat_minor": 5
}
