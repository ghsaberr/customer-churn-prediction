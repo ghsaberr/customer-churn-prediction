{
 "cells": [
  {
   "cell_type": "markdown",
   "id": "790c3a69-1ede-4af9-ac27-2c51c3759dd4",
   "metadata": {},
   "source": [
    "# Customer Churn Prediction\n",
    "## Integration of Logging & Monitoring\n",
    "### 1. Adding Basic Logging for Model Performance Tracking\n",
    "To ensure the model performs well in production and identify performance degradation, we can implement logging.\n",
    "\n",
    "#### a. Logging Model Predictions & Performance Metrics\n",
    "We can log model predictions and key performance metrics (e.g., accuracy, precision, recall, F1-score, log loss, and MCC) at regular intervals using Python’s logging module or a logging framework like MLflow, TensorBoard, or Weights & Biases."
   ]
  },
  {
   "cell_type": "code",
   "execution_count": 1,
   "id": "7065b053-acb0-40d2-8bb3-0d0a25f3d4df",
   "metadata": {},
   "outputs": [],
   "source": [
    "import pandas as pd\n",
    "import logging\n",
    "import datetime\n",
    "from sklearn.metrics import accuracy_score, precision_score, recall_score, f1_score, roc_auc_score\n",
    "\n",
    "# Configure logging\n",
    "logging.basicConfig(filename='model_performance.log', level=logging.INFO, format='%(asctime)s - %(levelname)s - %(message)s')\n",
    "\n",
    "# Load y_true and y_pred\n",
    "y_true = pd.read_csv('y_true.csv')\n",
    "y_pred = pd.read_csv('y_pred_gb.csv')['predictions']\n",
    "\n",
    "def log_model_performance(y_true, y_pred, model_name):\n",
    "    accuracy = accuracy_score(y_true, y_pred)\n",
    "    precision = precision_score(y_true, y_pred)\n",
    "    recall = recall_score(y_true, y_pred)\n",
    "    f1 = f1_score(y_true, y_pred)\n",
    "    auc = roc_auc_score(y_true, y_pred)\n",
    "\n",
    "    logging.info(f\"Model: {model_name} | Accuracy: {accuracy:.4f} | Precision: {precision:.4f} | Recall: {recall:.4f} | F1-score: {f1:.4f} | AUC: {auc:.4f}\")\n",
    "\n",
    "# Example usage after model prediction\n",
    "log_model_performance(y_true, y_pred, \"Gradient Boosting\")\n"
   ]
  },
  {
   "cell_type": "markdown",
   "id": "f0fdf3ad-3098-44c2-b1d4-12bca004611e",
   "metadata": {},
   "source": [
    "#### b. Triggering Alerts for Performance Drops\n",
    "We can set thresholds for model performance and trigger alerts if performance drops significantly."
   ]
  },
  {
   "cell_type": "code",
   "execution_count": 2,
   "id": "77135b38-0db3-4c81-9f52-c0fbb02c3771",
   "metadata": {},
   "outputs": [],
   "source": [
    "import smtplib\n",
    "\n",
    "def send_alert_email(subject, message):\n",
    "    sender_email = \"your_email@example.com\"\n",
    "    receiver_email = \"admin@example.com\"\n",
    "    password = \"yourpassword\"\n",
    "\n",
    "    with smtplib.SMTP(\"smtp.example.com\", 587) as server:\n",
    "        server.starttls()\n",
    "        server.login(sender_email, password)\n",
    "        email_message = f\"Subject: {subject}\\n\\n{message}\"\n",
    "        server.sendmail(sender_email, receiver_email, email_message)\n",
    "\n",
    "# Example of performance monitoring\n",
    "threshold_accuracy = 0.85  # Define acceptable threshold\n",
    "accuracy = accuracy_score(y_true, y_pred)\n",
    "\n",
    "if accuracy < threshold_accuracy:\n",
    "    send_alert_email(\"Model Performance Alert\", f\"Accuracy dropped below {threshold_accuracy}. Current accuracy: {accuracy:.4f}\")"
   ]
  },
  {
   "cell_type": "markdown",
   "id": "f33836d8-93a2-4c80-9c89-4010ad733559",
   "metadata": {},
   "source": [
    "### 2. Setting Up a Monitoring Dashboard\n",
    "For real-time monitoring of the model, we can use Prometheus & Grafana (or cloud alternatives like AWS CloudWatch, Azure Monitor, or Google Cloud AI Platform).\n",
    "\n",
    "#### a. Setting Up Metrics Collection with Prometheus\n",
    "Export model metrics to Prometheus by running a Prometheus Exporter (e.g., using Flask API).\n",
    "Store logs and metrics in a time-series database."
   ]
  },
  {
   "cell_type": "code",
   "execution_count": null,
   "id": "d53473f3-e664-42d9-8333-d1f4b8c04f4e",
   "metadata": {},
   "outputs": [],
   "source": [
    "from prometheus_client import start_http_server, Gauge\n",
    "import time\n",
    "\n",
    "# Creating Prometheus metrics\n",
    "accuracy_gauge = Gauge('model_accuracy', 'Accuracy of the model')\n",
    "\n",
    "# Start the Prometheus server\n",
    "start_http_server(8000)\n",
    "\n",
    "# Update criteria\n",
    "while True:\n",
    "    accuracy = accuracy_score(y_true, y_pred)\n",
    "\n",
    "    accuracy_gauge.set(accuracy)\n",
    "\n",
    "    time.sleep(15)  # Send metrics every 15 seconds\n"
   ]
  },
  {
   "cell_type": "code",
   "execution_count": null,
   "id": "d35861de-1524-45de-80c4-00293c744393",
   "metadata": {},
   "outputs": [],
   "source": []
  }
 ],
 "metadata": {
  "kernelspec": {
   "display_name": "Python 3 (ipykernel)",
   "language": "python",
   "name": "python3"
  },
  "language_info": {
   "codemirror_mode": {
    "name": "ipython",
    "version": 3
   },
   "file_extension": ".py",
   "mimetype": "text/x-python",
   "name": "python",
   "nbconvert_exporter": "python",
   "pygments_lexer": "ipython3",
   "version": "3.13.2"
  }
 },
 "nbformat": 4,
 "nbformat_minor": 5
}
