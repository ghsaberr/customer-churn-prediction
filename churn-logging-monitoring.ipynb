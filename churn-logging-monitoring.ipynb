{
 "cells": [
  {
   "cell_type": "markdown",
   "id": "790c3a69-1ede-4af9-ac27-2c51c3759dd4",
   "metadata": {},
   "source": [
    "# Customer Churn Prediction\n",
    "## Integration of Logging & Monitoring\n",
    "### 1. Adding Basic Logging for Model Performance Tracking\n",
    "To ensure the model performs well in production and identify performance degradation, we can implement logging.\n",
    "\n",
    "#### a. Logging Model Predictions & Performance Metrics\n",
    "We can log model predictions and key performance metrics (e.g., accuracy, precision, recall, F1-score, log loss, and MCC) at regular intervals using Python’s logging module or a logging framework like MLflow, TensorBoard, or Weights & Biases."
   ]
  },
  {
   "cell_type": "code",
   "execution_count": 1,
   "id": "7065b053-acb0-40d2-8bb3-0d0a25f3d4df",
   "metadata": {},
   "outputs": [],
   "source": [
    "import pandas as pd\n",
    "import logging\n",
    "import datetime\n",
    "from sklearn.metrics import accuracy_score, precision_score, recall_score, f1_score, roc_auc_score\n",
    "\n",
    "# Configure logging\n",
    "logging.basicConfig(filename='model_performance.log', level=logging.INFO, format='%(asctime)s - %(levelname)s - %(message)s')\n",
    "\n",
    "# Load y_true and y_pred\n",
    "y_true = pd.read_csv('y_true.csv')\n",
    "y_pred = pd.read_csv('y_pred_gb.csv')['predictions']\n",
    "\n",
    "def log_model_performance(y_true, y_pred, model_name):\n",
    "    accuracy = accuracy_score(y_true, y_pred)\n",
    "    precision = precision_score(y_true, y_pred)\n",
    "    recall = recall_score(y_true, y_pred)\n",
    "    f1 = f1_score(y_true, y_pred)\n",
    "    auc = roc_auc_score(y_true, y_pred)\n",
    "\n",
    "    logging.info(f\"Model: {model_name} | Accuracy: {accuracy:.4f} | Precision: {precision:.4f} | Recall: {recall:.4f} | F1-score: {f1:.4f} | AUC: {auc:.4f}\")\n",
    "\n",
    "# Example usage after model prediction\n",
    "log_model_performance(y_true, y_pred, \"Gradient Boosting\")\n"
   ]
  },
  {
   "cell_type": "markdown",
   "id": "f0fdf3ad-3098-44c2-b1d4-12bca004611e",
   "metadata": {},
   "source": [
    "#### b. Triggering Alerts for Performance Drops\n",
    "We can set thresholds for model performance and trigger alerts if performance drops significantly."
   ]
  },
  {
   "cell_type": "code",
   "execution_count": 4,
   "id": "77135b38-0db3-4c81-9f52-c0fbb02c3771",
   "metadata": {},
   "outputs": [],
   "source": [
    "import smtplib\n",
    "\n",
    "def send_alert_email(subject, message):\n",
    "    sender_email = \"your_email@example.com\"\n",
    "    receiver_email = \"admin@example.com\"\n",
    "    password = \"yourpassword\"\n",
    "\n",
    "    with smtplib.SMTP(\"smtp.example.com\", 587) as server:\n",
    "        server.starttls()\n",
    "        server.login(sender_email, password)\n",
    "        email_message = f\"Subject: {subject}\\n\\n{message}\"\n",
    "        server.sendmail(sender_email, receiver_email, email_message)\n",
    "\n",
    "# Example of performance monitoring\n",
    "threshold_accuracy = 0.85  # Define acceptable threshold\n",
    "accuracy = accuracy_score(y_true, y_pred)\n",
    "\n",
    "if accuracy < threshold_accuracy:\n",
    "    send_alert_email(\"Model Performance Alert\", f\"Accuracy dropped below {threshold_accuracy}. Current accuracy: {accuracy:.4f}\")"
   ]
  },
  {
   "cell_type": "markdown",
   "id": "f33836d8-93a2-4c80-9c89-4010ad733559",
   "metadata": {},
   "source": [
    "### 2. Setting Up a Monitoring Dashboard\n",
    "For real-time monitoring of the model, we can use Prometheus & Grafana (or cloud alternatives like AWS CloudWatch, Azure Monitor, or Google Cloud AI Platform).\n",
    "\n",
    "#### a. Setting Up Metrics Collection with Prometheus\n",
    "Export model metrics to Prometheus by running a Prometheus Exporter (e.g., using Flask API).\n",
    "Store logs and metrics in a time-series database."
   ]
  },
  {
   "cell_type": "code",
   "execution_count": 5,
   "id": "d53473f3-e664-42d9-8333-d1f4b8c04f4e",
   "metadata": {},
   "outputs": [
    {
     "ename": "KeyboardInterrupt",
     "evalue": "",
     "output_type": "error",
     "traceback": [
      "\u001b[1;31m---------------------------------------------------------------------------\u001b[0m",
      "\u001b[1;31mKeyboardInterrupt\u001b[0m                         Traceback (most recent call last)",
      "Cell \u001b[1;32mIn[5], line 14\u001b[0m\n\u001b[0;32m     12\u001b[0m start_http_server(\u001b[38;5;241m8000\u001b[39m)  \u001b[38;5;66;03m# Expose metrics on port 8000\u001b[39;00m\n\u001b[0;32m     13\u001b[0m \u001b[38;5;28;01mwhile\u001b[39;00m \u001b[38;5;28;01mTrue\u001b[39;00m:\n\u001b[1;32m---> 14\u001b[0m     \u001b[43mprocess_request\u001b[49m\u001b[43m(\u001b[49m\u001b[43m)\u001b[49m\n",
      "File \u001b[1;32m<decorator-gen-1>:2\u001b[0m, in \u001b[0;36mprocess_request\u001b[1;34m()\u001b[0m\n",
      "File \u001b[1;32mC:\\myProjects\\Customer-Churn-Prediction\\.venv\\Lib\\site-packages\\prometheus_client\\context_managers.py:80\u001b[0m, in \u001b[0;36mTimer.__call__.<locals>.wrapped\u001b[1;34m(func, *args, **kwargs)\u001b[0m\n\u001b[0;32m     76\u001b[0m \u001b[38;5;28;01mdef\u001b[39;00m\u001b[38;5;250m \u001b[39m\u001b[38;5;21mwrapped\u001b[39m(func, \u001b[38;5;241m*\u001b[39margs, \u001b[38;5;241m*\u001b[39m\u001b[38;5;241m*\u001b[39mkwargs):\n\u001b[0;32m     77\u001b[0m     \u001b[38;5;66;03m# Obtaining new instance of timer every time\u001b[39;00m\n\u001b[0;32m     78\u001b[0m     \u001b[38;5;66;03m# ensures thread safety and reentrancy.\u001b[39;00m\n\u001b[0;32m     79\u001b[0m     \u001b[38;5;28;01mwith\u001b[39;00m \u001b[38;5;28mself\u001b[39m\u001b[38;5;241m.\u001b[39m_new_timer():\n\u001b[1;32m---> 80\u001b[0m         \u001b[38;5;28;01mreturn\u001b[39;00m \u001b[43mfunc\u001b[49m\u001b[43m(\u001b[49m\u001b[38;5;241;43m*\u001b[39;49m\u001b[43margs\u001b[49m\u001b[43m,\u001b[49m\u001b[43m \u001b[49m\u001b[38;5;241;43m*\u001b[39;49m\u001b[38;5;241;43m*\u001b[39;49m\u001b[43mkwargs\u001b[49m\u001b[43m)\u001b[49m\n",
      "Cell \u001b[1;32mIn[5], line 9\u001b[0m, in \u001b[0;36mprocess_request\u001b[1;34m()\u001b[0m\n\u001b[0;32m      7\u001b[0m \u001b[38;5;129m@REQUEST_TIME\u001b[39m\u001b[38;5;241m.\u001b[39mtime()\n\u001b[0;32m      8\u001b[0m \u001b[38;5;28;01mdef\u001b[39;00m\u001b[38;5;250m \u001b[39m\u001b[38;5;21mprocess_request\u001b[39m():\n\u001b[1;32m----> 9\u001b[0m     \u001b[43mtime\u001b[49m\u001b[38;5;241;43m.\u001b[39;49m\u001b[43msleep\u001b[49m\u001b[43m(\u001b[49m\u001b[43mrandom\u001b[49m\u001b[38;5;241;43m.\u001b[39;49m\u001b[43muniform\u001b[49m\u001b[43m(\u001b[49m\u001b[38;5;241;43m0.1\u001b[39;49m\u001b[43m,\u001b[49m\u001b[43m \u001b[49m\u001b[38;5;241;43m0.3\u001b[39;49m\u001b[43m)\u001b[49m\u001b[43m)\u001b[49m\n",
      "\u001b[1;31mKeyboardInterrupt\u001b[0m: "
     ]
    }
   ],
   "source": [
    "from prometheus_client import start_http_server, Summary\n",
    "import random\n",
    "import time\n",
    "\n",
    "REQUEST_TIME = Summary('model_inference_time_seconds', 'Time spent in model inference')\n",
    "\n",
    "@REQUEST_TIME.time()\n",
    "def process_request():\n",
    "    time.sleep(random.uniform(0.1, 0.3))  # Simulate processing time\n",
    "\n",
    "if __name__ == \"__main__\":\n",
    "    start_http_server(8000)  # Expose metrics on port 8000\n",
    "    while True:\n",
    "        process_request()\n"
   ]
  },
  {
   "cell_type": "code",
   "execution_count": null,
   "id": "d35861de-1524-45de-80c4-00293c744393",
   "metadata": {},
   "outputs": [],
   "source": []
  }
 ],
 "metadata": {
  "kernelspec": {
   "display_name": "Python 3 (ipykernel)",
   "language": "python",
   "name": "python3"
  },
  "language_info": {
   "codemirror_mode": {
    "name": "ipython",
    "version": 3
   },
   "file_extension": ".py",
   "mimetype": "text/x-python",
   "name": "python",
   "nbconvert_exporter": "python",
   "pygments_lexer": "ipython3",
   "version": "3.13.2"
  }
 },
 "nbformat": 4,
 "nbformat_minor": 5
}
